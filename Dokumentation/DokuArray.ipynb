{
 "cells": [
  {
   "cell_type": "markdown",
   "id": "fb7619db-328f-47f8-be4f-263fb6e026bb",
   "metadata": {},
   "source": [
    "# 2. Code Beschreibung CodeArray\n",
    "Durch Drücken der **tab** Taste wird Emotionserkennung der Teilnehmer neu durchgeführt.\n",
    "Durch Drücken der **esc** Taste wird das Programm gestoppt."
   ]
  },
  {
   "cell_type": "markdown",
   "id": "104bfa13-d77d-49ca-b0c0-e0295eb85264",
   "metadata": {
    "tags": []
   },
   "source": [
    "## 2.1 Verwendete Packages"
   ]
  },
  {
   "cell_type": "code",
   "execution_count": 1,
   "id": "10bd922f",
   "metadata": {
    "tags": []
   },
   "outputs": [],
   "source": [
    "import os\n",
    "import time\n",
    "import datetime\n",
    "\n",
    "from feat import Detector\n",
    "from feat.utils.io import get_test_data_path\n",
    "from feat.plotting import imshow\n",
    "\n",
    "import matplotlib\n",
    "matplotlib.use('TkAgg')\n",
    "import matplotlib.pyplot as plt\n",
    "import pandas as pd\n",
    "import numpy as np\n",
    "\n",
    "import pygetwindow as gw\n",
    "from pynput import keyboard\n",
    "#import pyautogui\n",
    "#import keyboard\n",
    "\n",
    "import cv2\n",
    "import mss\n",
    "\n"
   ]
  },
  {
   "cell_type": "markdown",
   "id": "1a035014-32ef-4d7d-b43f-1409500653f3",
   "metadata": {},
   "source": [
    "## 2.2 Funktion *show_data_window(werte)*\n",
    "Visualisierung der Ergebnisse mit *matplotlib*.\n",
    "\n",
    "**Beschreibung:** *werte* übergibt die ermittelten Emotionen in einem Array aus Zahlen.\n",
    "\n",
    "**Anmerkung:** Die Visualisierung der Ergebnisse durch plt.show() hat zu verantworten, dass der Code nicht loopt. Erst wenn das Plotfenster geschlossen wird, wird der Main-Loop fortgesetzt und die Emotionen neu ermittelt."
   ]
  },
  {
   "cell_type": "code",
   "execution_count": 2,
   "id": "188da6e2",
   "metadata": {
    "tags": []
   },
   "outputs": [],
   "source": [
    "def show_data_window(werte):\n",
    "    \n",
    "    # Werte werden gelabelt\n",
    "    Index = ['anger','disgust', 'fear', 'happiness', 'sadness', 'surprise', 'neutral']\n",
    "    \n",
    "    # Plotfenster wird geöffnet und benannt\n",
    "    fig, ax = plt.subplots(num = 'Emotion Analysis')\n",
    "    \n",
    "    # Achsenzuordnung\n",
    "    ax.bar(Index, werte)\n",
    "    \n",
    "    # Achsenbeschriftung\n",
    "    ax.set_xlabel('Emotion')\n",
    "    ax.set_ylabel('Wert')\n",
    "    ax.set_title('Emotionswerte')\n",
    "    \n",
    "    # Plot wird erstellt\n",
    "    plt.show()\n",
    "    "
   ]
  },
  {
   "attachments": {
    "7fc2bcec-8935-4bc3-97b5-a021bebf9254.jpg": {
     "image/jpeg": "[encoded data removed]"
    }
   },
   "cell_type": "markdown",
   "id": "b7244bb2-a4e3-4763-9b0c-12856819913f",
   "metadata": {},
   "source": [
    "## 2.3 Funktion *bring_zoom_meeting_to_front()*\n",
    "Interaktionen mit Zoom-Fenster.\n",
    "\n",
    "**Beschreibung:** Die Größe des Videokonferenz-Fenster wird erkannt und angepasst. Es besteht die Möglichkeit, das Meeting-Fenster in den Vordergrund zu holen.\n",
    "\n",
    "**Anmerkung:** Der Name des Videokonferenz-Fensters muss evtl. an das jeweilige Videokonferenz-Tool angepasst werden (z. B. Meeting oder Teams...).\n",
    "\n",
    "![doku1.jpg](attachment:7fc2bcec-8935-4bc3-97b5-a021bebf9254.jpg)"
   ]
  },
  {
   "cell_type": "code",
   "execution_count": 1,
   "id": "a1197790",
   "metadata": {
    "tags": []
   },
   "outputs": [],
   "source": [
    "def bring_zoom_meeting_to_front():\n",
    "    \n",
    "    # Den Fenstertitel des Zoom-Meetings angeben\n",
    "    zoom_window_title = \"Zoom Meeting\"\n",
    "    \n",
    "    # Das Zoom-Meeting-Fenster suchen und in den Vordergrund bringen\n",
    "    zoom_window = gw.getWindowsWithTitle(zoom_window_title)[0]\n",
    "    #zoom_window.restore()  # Das Fenster wiederherstellen, falls es minimiert ist\n",
    "    #zoom_window.maximize()  # Das Fenster maximieren\n",
    "    \n",
    "    # Die Position und Größe des Zoom-Meeting-Fensters abrufen\n",
    "    left, top, right, bottom = zoom_window.left, zoom_window.top, zoom_window.right, zoom_window.bottom\n",
    "    \n",
    "    #Rückgabe Größe des Meeting-Fensters\n",
    "    return zoom_window\n"
   ]
  },
  {
   "cell_type": "markdown",
   "id": "7dfaa659-34e2-45de-9765-356baf2a913d",
   "metadata": {},
   "source": [
    "## 2.4 Funktion *take_screenshot(zoom_window, anz_screenshots*\n",
    "Bildschirmaufnahmen werden erstellt.\n",
    "\n",
    "**Beschreibung:** Anzahl der in *main()* angegebenen Screenshots *anz_screenshots* werden nacheinander aufgenommen und der Liste *screenshot_list* angehängt. Es wird nur der Bereich des Bildschirms aufgenommen, der über *zoom_window* übergeben wurde."
   ]
  },
  {
   "cell_type": "code",
   "execution_count": 4,
   "id": "afd2ffeb",
   "metadata": {
    "tags": []
   },
   "outputs": [],
   "source": [
    "def take_screenshot(zoom_window, anz_screenshots):\n",
    "    \n",
    "    # Aktuellen Zeitstempel für den Dateinamen generieren\n",
    "    timestamp = time.strftime(\"%Y%m%d-%H%M%S\", time.localtime())\n",
    "    screenshot_list = []\n",
    "    screenshot_name_list = []\n",
    "    count = True\n",
    "    \n",
    "    monitor = {\"top\": zoom_window.top, \"left\": zoom_window.left, \"width\": (zoom_window.right-zoom_window.left), \"height\": (zoom_window.bottom - zoom_window.top)}\n",
    "   \n",
    "    with mss.mss() as sct:\n",
    "        while True:\n",
    "            \n",
    "            # Screenshot des ausgewählten Bereichs aufnehmen\n",
    "            #screenshot = pyautogui.screenshot(region=region)\n",
    "            img = np.array(sct.grab(monitor))\n",
    "            screenshot_list.append(img)\n",
    "            \n",
    "            # Screenshot wird benannt\n",
    "            screenshot_name = f\"screenshot_{timestamp}\"\n",
    "            screenshot_name_list.append(f\"screenshot_{timestamp}\")\n",
    "\n",
    "            # Speichern des Screenshots\n",
    "            # Dateipfad und Name für den Screenshot\n",
    "            #screenshot_path = f\"./data/screenshot_{timestamp}.png\"\n",
    "            #screenshot.save(f\"./data/{screenshot_name}.png\")\n",
    "            #print (count)\n",
    "                   \n",
    "            if count == anz_screenshots:\n",
    "                break\n",
    "            count += 1\n",
    "            \n",
    "    #print(f\"Screenshot saved: screenshot_{timestamp}.png\")\n",
    "    return screenshot_list\n"
   ]
  },
  {
   "cell_type": "markdown",
   "id": "bbcafd8b-a81f-4e3d-9ab4-a6596267c2e0",
   "metadata": {},
   "source": [
    "## 2.5 Funktion *pyFeat(screenshot_list,anz_screenshots)*\n",
    "Die Emotion der Gesichter auf den Screenshots werden mithilfe der Toolbox pyFeat erkannt. <https://py-feat.org/pages/intro.html>\n",
    "\n",
    "**Beschreibung:** Die Emotionen 'anger', 'disgust', 'fear', 'happiness', 'sadness', 'surprise', 'neutral' werden in Zahlenwerten zwischen 0 und 1 angegeben."
   ]
  },
  {
   "cell_type": "code",
   "execution_count": 5,
   "id": "e743a4ac",
   "metadata": {
    "tags": []
   },
   "outputs": [],
   "source": [
    "def pyFeat(screenshot_list,anz_screenshots):\n",
    "    \n",
    "    # Detektor einrichten\n",
    "    detector = Detector( \n",
    "\tface_model = \"retinaface\",\n",
    "\tlandmark_model = \"mobilefacenet\",\n",
    "\tau_model = 'xgb',\n",
    "\temotion_model = \"resmasknet\",\n",
    "    Facepose_model = \"img2pose\",)\n",
    "    \n",
    "    vorhersage_list = []\n",
    "    emotion_sum =[]\n",
    "    \n",
    "    # Emotionserkennung wird durchgeführt und in Arrays gespeichert\n",
    "    for i in screenshot_list:\n",
    "        frame=i\n",
    "        \n",
    "        #Gesichtserkennung\n",
    "        detected_faces = detector.detect_faces(frame)\n",
    "        \n",
    "        #Landmarks ermitteln\n",
    "        detected_landmarks = detector.detect_landmarks(frame, detected_faces)\n",
    "        \n",
    "        #Emotionen bestimmen\n",
    "        vorhersage = detector.detect_emotions(frame, detected_faces, detected_landmarks)\n",
    "        vorhersage_list.append(vorhersage)\n",
    "\n",
    "    \n",
    "    # Elementweise Addition der Arrays \n",
    "    for au in vorhersage_list:\n",
    "        for inn in au:\n",
    "            # Emotion der einzelnen Bilder wird zusammenaddiert\n",
    "            emotion_sum.append(np.sum(inn, axis = 0))\n",
    "            #print(inn)\n",
    "     \n",
    "    #Mittelwertbildung\n",
    "    emotion = np.mean(emotion_sum, axis = 0)\n",
    "    \n",
    "    #Skalierung der Werte auf 1\n",
    "    emotion_sk = np.divide(emotion, np.sum(emotion))\n",
    "    \n",
    "    print(\"---------------------------------------------------------------------\")\n",
    "    #print(emotion_sum)\n",
    "    #print(emotion_sk)\n",
    "    print(\"---------------------------------------------------------------------\")\n",
    "    \n",
    "    # Emotionsarray wird zurückgegeben\n",
    "    return emotion_sk\n"
   ]
  },
  {
   "cell_type": "markdown",
   "id": "30fb8a46",
   "metadata": {},
   "source": [
    "## 2.6 Funktion *visualisieren(werte)*\n",
    "Diese Funktion leitet bis jetzt nur zu Funktion *show_data_window()* weiter.\n",
    "\n",
    "**Beschreibung:** Dient der Ausgabe des Ergebnisses."
   ]
  },
  {
   "cell_type": "code",
   "execution_count": 6,
   "id": "2baae7d2",
   "metadata": {
    "tags": []
   },
   "outputs": [],
   "source": [
    "def visualisieren(werte):\n",
    "    \n",
    "    print(f'die Summe ist {np.sum(Werte)}')\n",
    "    show_data_window(werte)\n",
    "    #print(Werte)\n",
    "   "
   ]
  },
  {
   "cell_type": "markdown",
   "id": "7d68a528-5b86-43d5-a7a0-03f4a83b86d5",
   "metadata": {},
   "source": [
    "## 2.7 Funktion *on_release(key)*\n",
    "\n",
    "**Beschreibung:**\n",
    "Code loopt nicht, da Programm bei Funktion show_data_window() bei visualisierung des Graphen stoppt. Durch drücken der **tab** Taste wird neue Emotionserkennung gestartet. Durch drücken der **esc** Taste wird das Programm gestoppt.\n",
    "\n",
    "*on_release()* läuft durchgehend im Hintergrund. Wird eine Taste gedrückt so wird bei Loslassen der Taste überprüft, welche betätigt wird."
   ]
  },
  {
   "cell_type": "code",
   "execution_count": 7,
   "id": "6127ce9e",
   "metadata": {
    "tags": []
   },
   "outputs": [],
   "source": [
    "def on_release(key):\n",
    "    \n",
    "    # Funktion läuft durchgehend im Hintergrund.\n",
    "    #Globsle Variable running\n",
    "    global running\n",
    "    \n",
    "    # Programm wird durch esc Taste gestoppt.\n",
    "    if key == keyboard.Key.esc:\n",
    "        running = False;\n",
    "        plt.close() \n",
    "        \n",
    "    # Programm wird durch tab Taste fortgesezt, dadurch startet eine neue Emotionserkennung  \n",
    "    elif key == keyboard.Key.tab:\n",
    "        \n",
    "        #Schließen des Fensters\n",
    "        plt.close()\n",
    "\n"
   ]
  },
  {
   "cell_type": "markdown",
   "id": "64582786-dd83-44ce-ab1d-26191acde2a8",
   "metadata": {},
   "source": [
    "## 2.8 Funktion *main()*\n",
    "\n",
    "Hauptprogramm.\n",
    "\n",
    "**Beschreibung** Solange *running=True* werden folgende Funktionen im Loop ausgeführt:\n",
    "\n",
    "-*region = bring_zoom_meeting_to_front()*: Ermittelt Position und Größe des Zoom_Fenster und bringt es in den Vordergrund.\n",
    "\n",
    "-*screenshot_list = take_screenshot(region, anz_screenshots)*: Aufnahme von Screenshots des Zoom-Fensters.\n",
    "\n",
    "-*emotion = pyFeat(screenshot_list,anz_screenshots)*: Detektion der Emotionen auf den Schreenshots.\n",
    "\n",
    "-*visualisieren(emotion)*: Visualisierung der detektierten Emotionen mittels eines Diagramms.\n",
    "\n",
    "Sobald *running=False* wird der Loop unterbrochen und der Keyboard-Listener mit *Listeneer.stop()* gestoppt.\n",
    "\n",
    "**Anmerkung:** Über *anz_screenshots* wird die Anzahl der aufzunemenden Schreenshots festgelegt.\n"
   ]
  },
  {
   "cell_type": "code",
   "execution_count": 8,
   "id": "a4079c18",
   "metadata": {
    "tags": []
   },
   "outputs": [],
   "source": [
    "def main():        \n",
    "    \n",
    "    #Anzahl an Screenshots die Aufgenommen werden sollen\n",
    "    anz_screenshots = 10\n",
    "    # Debugging Purpose dauer eines Programmdurchlaufs bestimmen.\n",
    "    timestamp = time.strftime(\"%Y%m%d-%H%M%S\", time.localtime())\n",
    "    while running:\n",
    "\n",
    "        \n",
    "        screenshot_list = []\n",
    "        # Zoom-Fenster wird erkannt\n",
    "        region = bring_zoom_meeting_to_front()\n",
    "        # Screenshot wird erstellt\n",
    "        screenshot_list = take_screenshot(region, anz_screenshots)\n",
    "        # Emotion wird erkannt\n",
    "        emotion = pyFeat(screenshot_list,anz_screenshots)\n",
    "        # Emotion wird Visualisiert\n",
    "        visualisieren(emotion)\n",
    "        timestamp = time.strftime(\"%Y%m%d-%H%M%S\", time.localtime())\n",
    "        print(timestamp)\n",
    "            \n",
    "    listener.stop()\n",
    "    print(\"stopped!\")\n",
    "    "
   ]
  },
  {
   "cell_type": "markdown",
   "id": "90b39937",
   "metadata": {},
   "source": [
    "## 2.9 Startet das Hauptprogramm\n",
    "\n",
    "**Beschreibung:**\n",
    "Initialisiert und startet *keyboard_Listener*.Dieser erkennt Tastatureingabe bei Loslassen der Taste.\n",
    "*main()*-Funktion wird aufgerufen.\n"
   ]
  },
  {
   "cell_type": "code",
   "execution_count": null,
   "id": "36d96a85-3f81-408c-b2d0-6063d91c97a3",
   "metadata": {
    "tags": []
   },
   "outputs": [
    {
     "name": "stderr",
     "output_type": "stream",
     "text": [
      "C:\\Users\\ferdi\\anaconda3\\envs\\IoT\\lib\\site-packages\\torchvision\\transforms\\functional.py:1603: UserWarning: The default value of the antialias parameter of all the resizing transforms (Resize(), RandomResizedCrop(), etc.) will change from None to True in v0.17, in order to be consistent across the PIL and Tensor backends. To suppress this warning, directly pass antialias=True (recommended, future default), antialias=None (current default, which means False for Tensors and True for PIL), or antialias=False (only works on Tensors - PIL will still use antialiasing). This also applies if you are using the inference transforms from the models weights: update the call to weights.transforms(antialias=True).\n",
      "  warnings.warn(\n"
     ]
    },
    {
     "name": "stdout",
     "output_type": "stream",
     "text": [
      "---------------------------------------------------------------------\n",
      "---------------------------------------------------------------------\n",
      "die Summe ist 1.0\n",
      "20230709-094751\n"
     ]
    },
    {
     "name": "stderr",
     "output_type": "stream",
     "text": [
      "C:\\Users\\ferdi\\anaconda3\\envs\\IoT\\lib\\site-packages\\torchvision\\transforms\\functional.py:1603: UserWarning: The default value of the antialias parameter of all the resizing transforms (Resize(), RandomResizedCrop(), etc.) will change from None to True in v0.17, in order to be consistent across the PIL and Tensor backends. To suppress this warning, directly pass antialias=True (recommended, future default), antialias=None (current default, which means False for Tensors and True for PIL), or antialias=False (only works on Tensors - PIL will still use antialiasing). This also applies if you are using the inference transforms from the models weights: update the call to weights.transforms(antialias=True).\n",
      "  warnings.warn(\n"
     ]
    }
   ],
   "source": [
    "# Starte das Hauptprogramm\n",
    "\n",
    "#Setze \n",
    "running = True\n",
    "\n",
    "#Initialisiert Keyboard-Listener; Erkennung von Tastatureingabe bei Loslassen der Taste.\n",
    "# run listener in background so that the while loop gets executed\n",
    "listener = keyboard.Listener(on_release=on_release)\n",
    "\n",
    "# Start des Keyboard-Listeners\n",
    "listener.start()\n",
    "\n",
    "#Aufruf des Main-Loops\n",
    "main()\n"
   ]
  }
 ],
 "metadata": {
  "kernelspec": {
   "display_name": "Python 3 (ipykernel)",
   "language": "python",
   "name": "python3"
  },
  "language_info": {
   "codemirror_mode": {
    "name": "ipython",
    "version": 3
   },
   "file_extension": ".py",
   "mimetype": "text/x-python",
   "name": "python",
   "nbconvert_exporter": "python",
   "pygments_lexer": "ipython3",
   "version": "3.9.16"
  }
 },
 "nbformat": 4,
 "nbformat_minor": 5
}
